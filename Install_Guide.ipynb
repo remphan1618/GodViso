{
 "cells": [
  {
   "cell_type": "markdown",
   "metadata": {},
   "source": [
    "# VisoMaster Internal Guide & Diagnostics\n",
    "\n",
    "**Welcome!** This notebook helps you verify your VisoMaster instance setup on Vast.ai, check logs, and perform basic troubleshooting.\n",
    "\n",
    "**Current Configuration:** (This needs to be determined dynamically or set based on the build)\n",
    "- **Build Type:** [Default/Alt/Small-Default/Small-Alt] \n",
    "- **Access:** [VNC/Portal]\n",
    "- **Models/Assets:** [Built-in/Downloaded at Runtime]\n",
    "\n",
    "---"
   ]
  },
  {
   "cell_type": "markdown",
   "metadata": {},
   "source": [
    "## 1. Environment & Path Checks"
   ]
  },
  {
   "cell_type": "code",
   "execution_count": null,
   "metadata": {},
   "outputs": [],
   "source": [
    "import os\n",
    "import sys\n",
    "\n",
    "print(f\"Python Executable: {sys.executable}\")\n",
    "print(f\"Current Working Dir: {os.getcwd()}\")\n",
    "print(\"\\nEnvironment Variables (PATH):\")\n",
    "print(os.environ.get('PATH'))\n",
    "print(\"\\nConda Environment:\")\n",
    "!conda info --envs"
   ]
  },
  {
   "cell_type": "markdown",
   "metadata": {},
   "source": [
    "## 2. Check Key Directories"
   ]
  },
  {
   "cell_type": "code",
   "execution_count": null,
   "metadata": {},
   "outputs": [],
   "source": [
    "print(\"--- Checking /app structure ---\")\n",
    "!ls -l /app\n",
    "\n",
    "print(\"\\n--- Checking /app/VisoMaster --- \")\n",
    "!ls -l /app/VisoMaster\n",
    "\n",
    "print(\"\\n--- Checking /app/dependencies --- \")\n",
    "# This might be empty for s-def/s-alt builds until the entrypoint runs\n",
    "!ls -l /app/dependencies\n",
    "\n",
    "print(\"\\n--- Checking /app/models --- \")\n",
    "# This might be empty for s-def/s-alt builds until the entrypoint runs\n",
    "!ls -l /app/models\n",
    "\n",
    "print(\"\\n--- Checking /workspace --- \")\n",
    "# This is mounted from the Vast.ai host\n",
    "!ls -l /workspace"
   ]
  },
  {
   "cell_type": "markdown",
   "metadata": {},
   "source": [
    "## 3. Check GPU Availability (PyTorch Example)"
   ]
  },
  {
   "cell_type": "code",
   "execution_count": null,
   "metadata": {},
   "outputs": [],
   "source": [
    "import torch\n",
    "\n",
    "if torch.cuda.is_available():\n",
    "    print(f\"CUDA is available! Device: {torch.cuda.get_device_name(0)}\")\n",
    "    print(f\"CUDA Version (PyTorch): {torch.version.cuda}\")\n",
    "    print(f\"cuDNN Version (PyTorch): {torch.backends.cudnn.version()}\")\n",
    "else:\n",
    "    print(\"CUDA is NOT available. Check Vast.ai instance type and NVIDIA drivers.\")\n",
    "\n",
    "print(\"\\n--- nvidia-smi Output ---\")\n",
    "!nvidia-smi"
   ]
  },
  {
   "cell_type": "markdown",
   "metadata": {},
   "source": [
    "## 4. Check Running Services (Supervisor)"
   ]
  },
  {
   "cell_type": "code",
   "execution_count": null,
   "metadata": {},
   "outputs": [],
   "source": [
    "# Requires supervisorctl to be configured correctly (unix socket)\n",
    "!supervisorctl status"
   ]
  },
  {
   "cell_type": "markdown",
   "metadata": {},
   "source": [
    "## 5. View Logs\n",
    "\n",
    "Log locations depend on the configuration:\n",
    "- **VNC Builds (`default`, `s-def`):** Primarily in `/var/log/supervisor/`\n",
    "- **Portal Builds (`alt`, `s-alt`):** App/VNC/Caddy logs often in `/var/log/portal/`, supervisor core logs in `/var/log/supervisor/`"
   ]
  },
  {
   "cell_type": "code",
   "execution_count": null,
   "metadata": {},
   "outputs": [],
   "source": [
    "print(\"--- Supervisord Log (Last 20 lines) ---\")\n",
    "!tail -n 20 /var/log/supervisor/supervisord.log\n",
    "\n",
    "print(\"\\n--- VisoMaster App Log (Last 20 lines) ---\")\n",
    "# Adjust path for portal builds if needed\n",
    "!tail -n 20 /var/log/supervisor/visomaster_app.log || tail -n 20 /var/log/portal/visomaster_app.log\n",
    "\n",
    "print(\"\\n--- VisoMaster App Error Log (Last 20 lines) ---\")\n",
    "# Adjust path for portal builds if needed\n",
    "!tail -n 20 /var/log/supervisor/visomaster_app_err.log || tail -n 20 /var/log/portal/visomaster_app_err.log\n",
    "\n",
    "print(\"\\n--- X11VNC Log (Last 20 lines) ---\")\n",
    "# Adjust path for portal builds if needed\n",
    "!tail -n 20 /var/log/supervisor/x11vnc.log || tail -n 20 /var/log/portal/x11vnc.log\n",
    "\n",
    "print(\"\\n--- Caddy Log (Portal Builds Only - Last 20 lines) ---\")\n",
    "!tail -n 20 /var/log/portal/caddy.log || echo 'Caddy log not found (expected for VNC builds)'"
   ]
  },
  {
   "cell_type": "markdown",
   "metadata": {},
   "source": [
    "## 6. Manual Actions (Use with Caution)"
   ]
  },
  {
   "cell_type": "code",
   "execution_count": null,
   "metadata": {},
   "outputs": [],
   "source": [
    "# Example: Restart the VisoMaster app via supervisorctl\n",
    "# !supervisorctl restart visomaster_app\n",
    "\n",
    "# Example: Manually run the model download script (for s-def/s-alt)\n",
    "# print(\"Running model download script manually...\")\n",
    "# !conda run -n visomaster python /app/VisoMaster/download_models.py --output_dir /app/models\n",
    "\n",
    "# Example: Manually run the ffmpeg/ffplay download part (for s-def/s-alt)\n",
    "# print(\"Running ffmpeg/ffplay download manually...\")\n",
    "# !wget -q -O /app/dependencies/ffmpeg.exe https://github.com/visomaster/visomaster-assets/releases/download/v0.1.7_dp/ffmpeg.exe\n",
    "# !wget -q -O /app/dependencies/ffplay.exe https://github.com/visomaster/visomaster-assets/releases/download/v0.1.7_dp/ffplay.exe\n",
    "# print(\"Done.\")"
   ]
  }
 ],
 "metadata": {
  "kernelspec": {
   "display_name": "Python 3 (ipykernel)",
   "language": "python",
   "name": "python3"
  },
  "language_info": {
   "codemirror_mode": {
    "name": "ipython",
    "version": 3
   },
   "file_extension": ".py",
   "mimetype": "text/x-python",
   "name": "python",
   "nbconvert_exporter": "python",
   "pygments_lexer": "ipython3",
   "version": "3.10.13"
  }
 },
 "nbformat": 4,
 "nbformat_minor": 4
}