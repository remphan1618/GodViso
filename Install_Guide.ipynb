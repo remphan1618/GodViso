# -*- coding: utf-8 -*-
{
 "cells": [
  {
   "cell_type": "markdown",
   "metadata": {},
   "source": [
    "# GodViso Docker Usage Guide\n",
    "\n",
    "**Maintainer:** remphan1618\n",
    "**Date:** 2025-05-03\n",
    "\n",
    "This notebook guides you through pulling and running the various Docker configurations for the [VisoMaster](https://github.com/joshsylvia/VisoMaster) application provided in the `remphan1618/godviso` repository on Docker Hub.\n",
    "\n",
    "It assumes you have Docker installed and running. For full details on the configurations, please refer to the [project README.md](https://github.com/remphan1618/GodViso/blob/main/README.md)."
   ]
  },
  {
   "cell_type": "markdown",
   "metadata": {},
   "source": [
    "## 1. Prerequisites\n",
    "\n",
    "Make sure you have **Docker** installed and the Docker daemon is running.\n",
    "- [Install Docker Engine](https://docs.docker.com/engine/install/)\n",
    "\n",
    "You can verify your Docker installation by running:"
   ]
  },
  {
   "cell_type": "code",
   "execution_count": null,
   "metadata": {},
   "outputs": [],
   "source": [
    "# Check Docker version\n",
    "!docker --version\n",
    "\n",
    "# Check Docker daemon status (might require sudo or user group membership)\n",
    "!docker info"
   ]
  },
  {
   "cell_type": "markdown",
   "metadata": {},
   "source": [
    "## 2. Understanding the Docker Images\n",
    "\n",
    "This project provides four pre-built Docker images, each offering a different environment for VisoMaster:\n",
    "\n",
    "| Tag       | VisoMaster | Jupyter Lab | KasmVNC GUI | Caddy Proxy/Portal | Description                                                                 |\n",
    "| :-------- | :--------- | :---------- | :---------- | :----------------- | :-------------------------------------------------------------------------- |\n",
    "| `default` | ✅         | ✅          | ❌          | ✅ (Proxy Only)    | Standard setup with VisoMaster and Jupyter Lab, accessible via Caddy proxy. |\n",
    "| `alt`     | ✅         | ✅          | ✅          | ✅ (Portal)        | Includes VisoMaster, Jupyter Lab, and a KasmVNC desktop GUI. Caddy portal.  |\n",
    "| `s-def`   | ✅         | ❌          | ✅          | ❌                 | Minimal setup with VisoMaster in a KasmVNC desktop GUI. Direct access.      |\n",
    "| `s-alt`   | ✅         | ❌          | ✅          | ✅ (Portal)        | Minimal setup with VisoMaster in a KasmVNC desktop GUI. Caddy portal.       |\n",
    "\n",
    "**Choosing Your Configuration:**\n",
    "- **Need Jupyter Lab?** Choose `default` or `alt`.\n",
    "- **Want a Desktop GUI (via Web)?** Choose `alt`, `s-def`, or `s-alt`.\n",
    "- **Prefer simplicity / direct GUI access?** Choose `s-def`.\n",
    "- **Want a simple GUI setup behind a portal?** Choose `s-alt`.\n",
    "- **Want Jupyter + GUI + Portal?** Choose `alt`.\n",
    "- **Want Jupyter proxied without a GUI?** Choose `default`."
   ]
  },
  {
   "cell_type": "markdown",
   "metadata": {},
   "source": [
    "## 3. Running VisoMaster with Docker\n",
    "\n",
    "We will use Docker commands to pull the images and run them as containers. We'll use named volumes to persist data (models, dependencies, logs) across container restarts."
   ]
  },
  {
   "cell_type": "markdown",
   "metadata": {},
   "source": [
    "### 3.1 Using Volumes (Highly Recommended)\n",
    "\n",
    "Using volumes ensures that downloaded models, dependencies (like FFmpeg), and logs are not lost when you stop or remove the container. The examples below use the following named volumes:\n",
    "- `godviso-models`: Stores downloaded AI models (`/app/models` inside container).\n",
    "- `godviso-deps`: Stores downloaded dependencies like FFmpeg (`/app/dependencies` inside container).\n",
    "- `godviso-logs`: Stores application and service logs (`/app/logs` inside container).\n",
    "\n",
    "Docker creates these automatically if they don't exist when you first use them in a `docker run` command."
   ]
  },
  {
   "cell_type": "markdown",
   "metadata": {},
   "source": [
    "### 3.2 Option 1: Default (`remphan1618/godviso:default`)\n",
    "\n",
    "VisoMaster + Jupyter Lab, proxied by Caddy."
   ]
  },
  {
   "cell_type": "code",
   "execution_count": null,
   "metadata": {},
   "outputs": [],
   "source": [
    "%%bash\n",
    "# Pull the image\n",
    "docker pull remphan1618/godviso:default\n",
    "\n",
    "# Run the container in detached mode (-d)\n",
    "# Remove container on exit (--rm)\n",
    "# Map host ports to container ports (-p)\n",
    "# Mount volumes (-v)\n",
    "docker run -d --rm \\\n",
    "  --name godviso-default \\\n",
    "  -p 11111:11111 \\\n",
    "  -p 8888:8888 \\\n",
    "  -v godviso-models:/app/models \\\n",
    "  -v godviso-deps:/app/dependencies \\\n",
    "  -v godviso-logs:/app/logs \\\n",
    "  remphan1618/godviso:default\n",
    "\n",
    "echo \"Container 'godviso-default' started. Access via ports 11111 (Caddy) and 8888 (Jupyter direct).\""
   ]
  },
  {
   "cell_type": "markdown",
   "metadata": {},
   "source": [
    "### 3.3 Option 2: Alternate (`remphan1618/godviso:alt`)\n",
    "\n",
    "VisoMaster + Jupyter Lab + KasmVNC GUI + Caddy Portal."
   ]
  },
  {
   "cell_type": "code",
   "execution_count": null,
   "metadata": {},
   "outputs": [],
   "source": [
    "%%bash\n",
    "# Pull the image\n",
    "docker pull remphan1618/godviso:alt\n",
    "\n",
    "# Run the container\n",
    "docker run -d --rm \\\n",
    "  --name godviso-alt \\\n",
    "  -p 11111:11111 \\\n",
    "  -p 8888:8888 \\\n",
    "  -v godviso-models:/app/models \\\n",
    "  -v godviso-deps:/app/dependencies \\\n",
    "  -v godviso-logs:/app/logs \\\n",
    "  remphan1618/godviso:alt\n",
    "\n",
    "echo \"Container 'godviso-alt' started. Access via ports 11111 (Caddy Portal) and 8888 (Jupyter direct).\""
   ]
  },
  {
   "cell_type": "markdown",
   "metadata": {},
   "source": [
    "### 3.4 Option 3: Small Default (`remphan1618/godviso:s-def`)\n",
    "\n",
    "VisoMaster + KasmVNC GUI (Direct Access)."
   ]
  },
  {
   "cell_type": "code",
   "execution_count": null,
   "metadata": {},
   "outputs": [],
   "source": [
    "%%bash\n",
    "# Pull the image\n",
    "docker pull remphan1618/godviso:s-def\n",
    "\n",
    "# Run the container\n",
    "docker run -d --rm \\\n",
    "  --name godviso-s-def \\\n",
    "  -p 8443:8443 \\\n",
    "  -v godviso-models:/app/models \\\n",
    "  -v godviso-deps:/app/dependencies \\\n",
    "  -v godviso-logs:/app/logs \\\n",
    "  remphan1618/godviso:s-def\n",
    "\n",
    "echo \"Container 'godviso-s-def' started. Access KasmVNC GUI directly via port 8443.\""
   ]
  },
  {
   "cell_type": "markdown",
   "metadata": {},
   "source": [
    "### 3.5 Option 4: Small Alternate (`remphan1618/godviso:s-alt`)\n",
    "\n",
    "VisoMaster + KasmVNC GUI + Caddy Portal."
   ]
  },
  {
   "cell_type": "code",
   "execution_count": null,
   "metadata": {},
   "outputs": [],
   "source": [
    "%%bash\n",
    "# Pull the image\n",
    "docker pull remphan1618/godviso:s-alt\n",
    "\n",
    "# Run the container\n",
    "docker run -d --rm \\\n",
    "  --name godviso-s-alt \\\n",
    "  -p 11111:11111 \\\n",
    "  -v godviso-models:/app/models \\\n",
    "  -v godviso-deps:/app/dependencies \\\n",
    "  -v godviso-logs:/app/logs \\\n",
    "  remphan1618/godviso:s-alt\n",
    "\n",
    "echo \"Container 'godviso-s-alt' started. Access via Caddy Portal on port 11111.\""
   ]
  },
  {
   "cell_type": "markdown",
   "metadata": {},
   "source": [
    "## 4. Accessing Services\n",
    "\n",
    "Once the container is running, access the services using `http://localhost:<port>` (or your server's IP if not running locally).\n",
    "\n",
    "**`:default` Container (`godviso-default`)**\n",
    "- Caddy Proxy Base: `http://localhost:11111`\n",
    "  - VisoMaster App: `http://localhost:11111/visomaster/`\n",
    "  - Jupyter Lab: `http://localhost:11111/jupyter/`\n",
    "  - Logs: `http://localhost:11111/logs/`\n",
    "- Jupyter Lab (Direct): `http://localhost:8888`\n",
    "\n",
    "**`:alt` Container (`godviso-alt`)**\n",
    "- Caddy Portal: `http://localhost:11111`\n",
    "  - KasmVNC GUI: Click link on portal (navigates to `/gui/`)\n",
    "  - Logs: Click link on portal (navigates to `/logs/`)\n",
    "- Jupyter Lab (Direct): `http://localhost:8888`\n",
    "\n",
    "**`:s-def` Container (`godviso-s-def`)**\n",
    "- KasmVNC GUI: `http://localhost:8443`\n",
    "\n",
    "**`:s-alt` Container (`godviso-s-alt`)**\n",
    "- Caddy Portal: `http://localhost:11111`\n",
    "  - KasmVNC GUI: Click link on portal (navigates to `/gui/`)\n",
    "  - Logs: Click link on portal (navigates to `/logs/`)\n",
    "\n",
    "*(Note: For KasmVNC, default credentials might be user: `kasm_user`, password: `password` - check KasmVNC documentation or container logs if needed)*"
   ]
  },
  {
   "cell_type": "markdown",
   "metadata": {},
   "source": [
    "## 5. Basic Interaction & Management\n",
    "\n",
    "Here are some commands to manage your running containers."
   ]
  },
  {
   "cell_type": "markdown",
   "metadata": {},
   "source": [
    "### 5.1 Checking Container Logs\n",
    "\n",
    "You can view the combined output from supervisord (which includes logs from VisoMaster, Caddy, KasmVNC etc.) using `docker logs`. Replace `godviso-default` with the name of the container you are running (`godviso-alt`, `godviso-s-def`, `godviso-s-alt`)."
   ]
  },
  {
   "cell_type": "code",
   "execution_count": null,
   "metadata": {},
   "outputs": [],
   "source": [
    "# View logs for the 'default' container (replace name if needed)\n",
    "# Use -f to follow logs in real-time\n",
    "!docker logs godviso-default"
   ]
  },
  {
   "cell_type": "code",
   "execution_count": null,
   "metadata": {},
   "outputs": [],
   "source": [
    "# Example: Follow logs for 's-alt' container\n",
    "# !docker logs -f godviso-s-alt"
   ]
  },
  {
   "cell_type": "markdown",
   "metadata": {},
   "source": [
    "### 5.2 Stopping Containers\n",
    "\n",
    "Stop a running container using its name."
   ]
  },
  {
   "cell_type": "code",
   "execution_count": null,
   "metadata": {},
   "outputs": [],
   "source": [
    "# Stop the 'default' container (replace name if needed)\n",
    "!docker stop godviso-default\n",
    "\n",
    "# You can stop multiple containers\n",
    "# !docker stop godviso-alt godviso-s-def"
   ]
  },
  {
   "cell_type": "markdown",
   "metadata": {},
   "source": [
    "### 5.3 Removing Containers\n",
    "\n",
    "Containers started with `--rm` (like in the examples above) are automatically removed when stopped. If you started a container *without* `--rm`, you need to remove it manually after stopping:"
   ]
  },
  {
   "cell_type": "code",
   "execution_count": null,
   "metadata": {},
   "outputs": [],
   "source": [
    "# Remove a stopped container (only needed if not started with --rm)\n",
    "# !docker rm <container_name>"
   ]
  },
  {
   "cell_type": "markdown",
   "metadata": {},
   "source": [
    "### 5.4 Managing Volumes\n",
    "\n",
    "You can list your Docker volumes:"
   ]
  },
  {
   "cell_type": "code",
   "execution_count": null,
   "metadata": {},
   "outputs": [],
   "source": [
    "!docker volume ls"
   ]
  },
  {
   "cell_type": "markdown",
   "metadata": {},
   "source": [
    "If you want to completely reset and remove the persisted data (models, logs, dependencies):"
   ]
  },
  {
   "cell_type": "code",
   "execution_count": null,
   "metadata": {},
   "outputs": [],
   "source": [
    "# WARNING: This deletes the data stored in the volumes.\n",
    "# Make sure no containers are using these volumes first.\n",
    "# !docker volume rm godviso-models godviso-deps godviso-logs"
   ]
  },
  {
   "cell_type": "markdown",
   "metadata": {},
   "source": [
    "## 6. Troubleshooting Tips\n",
    "\n",
    "- **Port Conflicts:** If you get an error like `Error starting userland proxy: listen tcp4 0.0.0.0:<port>: bind: address already in use`, it means another application (or container) is already using that port on your host machine. Stop the other application or choose a different host port in the `docker run` command (e.g., `-p 11112:11111`).\n",
    "- **Permission Errors (Volumes):** If you mount host directories instead of named volumes, you might encounter permission issues inside the container. Using named volumes generally avoids this. If using host mounts, ensure the user inside the container (often `root` or a specific UID) has write access to the mounted directory.\n",
    "- **Container Won't Start / Exits Immediately:** Check the logs using `docker logs <container_name>` (even if it exited quickly) for error messages. This often reveals configuration problems or issues within the startup scripts.\n",
    "- **Cannot Access Web Interface:** \n",
    "    - Double-check the URL and port (`http://localhost:<port>`).\n",
    "    - Ensure the container is actually running (`docker ps`).\n",
    "    - Check your firewall isn't blocking the port.\n",
    "    - If running Docker on a VM or remote server, use the server's IP instead of `localhost`.\n",
    "- **Model/Dependency Download Issues:** Check the container logs (`docker logs <container_name>`). Network issues or problems with the download URLs might be indicated there. Ensure the container has internet access."
   ]
  },
  {
   "cell_type": "markdown",
   "metadata": {},
   "source": [
    "--- \n",
    "*End of Guide*"
   ]
  }
 ],
 "metadata": {
  "kernelspec": {
   "display_name": "Python 3",
   "language": "python",
   "name": "python3"
  },
  "language_info": {
   "codemirror_mode": {
    "name": "ipython",
    "version": 3
   },
   "file_extension": ".py",
   "mimetype": "text/x-python",
   "name": "python",
   "nbconvert_exporter": "python",
   "pygments_lexer": "ipython3",
   "version": "3.10.x" # Adjust if needed
  }
 },
 "nbformat": 4,
 "nbformat_minor": 4
}
